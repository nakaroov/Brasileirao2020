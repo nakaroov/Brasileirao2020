{
  "nbformat": 4,
  "nbformat_minor": 0,
  "metadata": {
    "colab": {
      "name": "BR2020.ipynb",
      "provenance": [],
      "toc_visible": true,
      "mount_file_id": "1Y1-PW59eRpRUnT5cwRd6dC8L9CyhDU35",
      "authorship_tag": "ABX9TyNSW7u46Woz+xT7wUMyQuR0",
      "include_colab_link": true
    },
    "kernelspec": {
      "name": "python3",
      "display_name": "Python 3"
    }
  },
  "cells": [
    {
      "cell_type": "markdown",
      "metadata": {
        "id": "view-in-github",
        "colab_type": "text"
      },
      "source": [
        "<a href=\"https://colab.research.google.com/github/nakaroov/Brasileirao2020/blob/main/BR2020.ipynb\" target=\"_parent\"><img src=\"https://colab.research.google.com/assets/colab-badge.svg\" alt=\"Open In Colab\"/></a>"
      ]
    },
    {
      "cell_type": "markdown",
      "metadata": {
        "id": "PfBLOMEYMwN0"
      },
      "source": [
        "# Bibliotecas\n"
      ]
    },
    {
      "cell_type": "code",
      "metadata": {
        "id": "7ZuUnlKSMtcb"
      },
      "source": [
        "import pandas as pd\n",
        "import seaborn as sns\n",
        "import matplotlib.pyplot as plt\n",
        "import numpy as np #cálculos em Arrays Multidimensionais"
      ],
      "execution_count": 46,
      "outputs": []
    },
    {
      "cell_type": "markdown",
      "metadata": {
        "id": "V2KboYhGM59s"
      },
      "source": [
        "# Carregar Dataframe"
      ]
    },
    {
      "cell_type": "code",
      "metadata": {
        "id": "8mzjQ6iA7Mxz"
      },
      "source": [
        "Tbl = pd.read_excel('/content/drive/My Drive/a/BR2020.xlsx')\n",
        "BR = []"
      ],
      "execution_count": 47,
      "outputs": []
    },
    {
      "cell_type": "markdown",
      "metadata": {
        "id": "DipkvM6d7Qfm"
      },
      "source": [
        "# Nova seção"
      ]
    },
    {
      "cell_type": "markdown",
      "metadata": {
        "id": "rBLvN2HH9JhN"
      },
      "source": [
        "##Obtem todos os clubes "
      ]
    },
    {
      "cell_type": "code",
      "metadata": {
        "id": "5-uhwMU07m9J",
        "colab": {
          "base_uri": "https://localhost:8080/",
          "height": 0
        },
        "outputId": "0f03eb75-5268-4feb-83a9-bcf4ccbc7f2a"
      },
      "source": [
        "clubes  =  pd.concat([Tbl['Clube1'].str.lower(), Tbl['Clube2'].str.lower()], axis=1, keys=['Clubes'])\n",
        "clubes  =  pd.Series(clubes['Clubes'].unique(), name=\"Clubes\")\n",
        "clubes =  clubes.to_frame()\n",
        "clubes"
      ],
      "execution_count": 48,
      "outputs": [
        {
          "output_type": "execute_result",
          "data": {
            "text/html": [
              "<div>\n",
              "<style scoped>\n",
              "    .dataframe tbody tr th:only-of-type {\n",
              "        vertical-align: middle;\n",
              "    }\n",
              "\n",
              "    .dataframe tbody tr th {\n",
              "        vertical-align: top;\n",
              "    }\n",
              "\n",
              "    .dataframe thead th {\n",
              "        text-align: right;\n",
              "    }\n",
              "</style>\n",
              "<table border=\"1\" class=\"dataframe\">\n",
              "  <thead>\n",
              "    <tr style=\"text-align: right;\">\n",
              "      <th></th>\n",
              "      <th>Clubes</th>\n",
              "    </tr>\n",
              "  </thead>\n",
              "  <tbody>\n",
              "    <tr>\n",
              "      <th>0</th>\n",
              "      <td>fortaleza</td>\n",
              "    </tr>\n",
              "    <tr>\n",
              "      <th>1</th>\n",
              "      <td>coritiba</td>\n",
              "    </tr>\n",
              "    <tr>\n",
              "      <th>2</th>\n",
              "      <td>sport</td>\n",
              "    </tr>\n",
              "    <tr>\n",
              "      <th>3</th>\n",
              "      <td>santos</td>\n",
              "    </tr>\n",
              "    <tr>\n",
              "      <th>4</th>\n",
              "      <td>flamengo</td>\n",
              "    </tr>\n",
              "    <tr>\n",
              "      <th>5</th>\n",
              "      <td>gremio</td>\n",
              "    </tr>\n",
              "    <tr>\n",
              "      <th>6</th>\n",
              "      <td>rb bragantino</td>\n",
              "    </tr>\n",
              "    <tr>\n",
              "      <th>7</th>\n",
              "      <td>atletico-mg</td>\n",
              "    </tr>\n",
              "    <tr>\n",
              "      <th>8</th>\n",
              "      <td>athletico</td>\n",
              "    </tr>\n",
              "    <tr>\n",
              "      <th>9</th>\n",
              "      <td>bahia</td>\n",
              "    </tr>\n",
              "    <tr>\n",
              "      <th>10</th>\n",
              "      <td>atletico-go</td>\n",
              "    </tr>\n",
              "    <tr>\n",
              "      <th>11</th>\n",
              "      <td>fluminense</td>\n",
              "    </tr>\n",
              "    <tr>\n",
              "      <th>12</th>\n",
              "      <td>ceara</td>\n",
              "    </tr>\n",
              "    <tr>\n",
              "      <th>13</th>\n",
              "      <td>internacional</td>\n",
              "    </tr>\n",
              "    <tr>\n",
              "      <th>14</th>\n",
              "      <td>vasco</td>\n",
              "    </tr>\n",
              "    <tr>\n",
              "      <th>15</th>\n",
              "      <td>são paulo</td>\n",
              "    </tr>\n",
              "    <tr>\n",
              "      <th>16</th>\n",
              "      <td>palmeiras</td>\n",
              "    </tr>\n",
              "    <tr>\n",
              "      <th>17</th>\n",
              "      <td>goias</td>\n",
              "    </tr>\n",
              "    <tr>\n",
              "      <th>18</th>\n",
              "      <td>botafogo-rj</td>\n",
              "    </tr>\n",
              "    <tr>\n",
              "      <th>19</th>\n",
              "      <td>corinthians</td>\n",
              "    </tr>\n",
              "    <tr>\n",
              "      <th>20</th>\n",
              "      <td>vasco</td>\n",
              "    </tr>\n",
              "  </tbody>\n",
              "</table>\n",
              "</div>"
            ],
            "text/plain": [
              "           Clubes\n",
              "0       fortaleza\n",
              "1        coritiba\n",
              "2           sport\n",
              "3          santos\n",
              "4        flamengo\n",
              "5          gremio\n",
              "6   rb bragantino\n",
              "7     atletico-mg\n",
              "8       athletico\n",
              "9           bahia\n",
              "10    atletico-go\n",
              "11     fluminense\n",
              "12          ceara\n",
              "13  internacional\n",
              "14          vasco\n",
              "15      são paulo\n",
              "16      palmeiras\n",
              "17          goias\n",
              "18    botafogo-rj\n",
              "19    corinthians\n",
              "20         vasco "
            ]
          },
          "metadata": {
            "tags": []
          },
          "execution_count": 48
        }
      ]
    },
    {
      "cell_type": "code",
      "metadata": {
        "id": "SuGhRsqG9HV0"
      },
      "source": [
        "TbMandante = clubes[[\"Clubes\"]].copy()"
      ],
      "execution_count": 49,
      "outputs": []
    },
    {
      "cell_type": "markdown",
      "metadata": {
        "id": "D66VkCyJaHeA"
      },
      "source": [
        "## FUNÇÕES"
      ]
    },
    {
      "cell_type": "code",
      "metadata": {
        "id": "I2QgEJz8Siwu"
      },
      "source": [
        "def getDraw(data, clube ): #Empates\n",
        "    df = data[(UmDois) & (Draw)]\n",
        "    empates = df['Vencedor'].count().astype(int)\n",
        "    return empates.astype(np.int64)\n",
        "    \n",
        "def getPoints(data, clube ):\n",
        "\n",
        "    Win = data[\"Vencedor\"].str.lower() == clube\n",
        "    filter4 = (data[\"Clube1\"].str.lower() == clube) | (data[\"Clube2\"].str.lower() == clube)\n",
        "    Visitante = data[(Away) & (Win)]\n",
        "    Visitante = Visitante['Vencedor'].count() \n",
        "    E = data[(filter4) & (Draw)]\n",
        "    E = E['Vencedor'].count()\n",
        "    return ((Visitante*3)+(Mandante*3)+E)\n",
        "\n",
        "def getWinner(data, clube ): #Vitorias\n",
        "  return (data[Win]['Vencedor'].count()).astype(int)\n",
        "\n",
        "def gols (Tbl, c1):\n",
        "  sem_carro = Tbl.loc[Tbl['Clube1'].str.lower() == c1]\n",
        "  nao_carro = pd.DataFrame(sem_carro['Clube1Gols'])\n",
        "  golsf = Tbl.loc[Tbl['Clube2'].str.lower() == c1]\n",
        "  gf = pd.DataFrame(golsf['Clube2Gols'])\n",
        "  gpc = nao_carro.Clube1Gols.sum().astype(int)\n",
        "  gpf = gf.sum().astype(int)\n",
        "  return (gpc + gpf)\n",
        "\n",
        "\n",
        "def golsc (Tbl, c1):\n",
        "  sem_carro = Tbl.loc[Tbl['Clube1'].str.lower() == c1]\n",
        "  nao_carros = pd.DataFrame(sem_carro['Clube2Gols'])\n",
        "  golsf = Tbl.loc[Tbl['Clube2'].str.lower() == c1]\n",
        "  gf = pd.DataFrame(golsf['Clube1Gols'])\n",
        "  gpc = nao_carros.Clube2Gols.sum().astype(int)\n",
        "  gpf = gf.Clube1Gols.sum().astype(int)\n",
        "  return (gpc + gpf)\n",
        "\n",
        "def HTPro (Tbl, c1):\n",
        "  sem_carro = Tbl.loc[Tbl['Clube1'].str.lower() == c1]\n",
        "  nao_carros = pd.DataFrame(sem_carro['GOLSMHT'])\n",
        "  golsf = Tbl.loc[Tbl['Clube2'].str.lower() == c1]\n",
        "  gf = pd.DataFrame(golsf['GOLSAHT'])\n",
        "  gpc = nao_carros.GOLSMHT.sum().astype(int)\n",
        "  gpf = gf.sum().astype(int)\n",
        "  return (gpc + gpf)\n",
        "\n",
        "def HTC (Tbl, c1):\n",
        "  sem_carro = Tbl.loc[Tbl['Clube1'].str.lower() == c1]\n",
        "  nao_carros = pd.DataFrame(sem_carro['GOLSAHT'])\n",
        "  golsf = Tbl.loc[Tbl['Clube2'].str.lower() == c1]\n",
        "  gf = pd.DataFrame(golsf['GOLSMHT'])\n",
        "  gpc = nao_carros.GOLSMHT.sum().astype(int)\n",
        "  gpf = gf.sum().astype(int)\n",
        "  return (gpc + gpf)\n",
        "\n",
        "\n",
        "def getDefeats(data, clube ):\n",
        "    filter1 = (data[\"Clube1\"].str.lower() == clube) | (data[\"Clube2\"].str.lower() == clube)\n",
        "    filter2 = (data[\"Vencedor\"].str.lower() != clube) & (data[\"Vencedor\"].str.lower() != '-')\n",
        "    df = data[(filter1) & (filter2)]\n",
        "    derrotas = df['Vencedor'].count()\n",
        "    return derrotas.astype(np.int64)\n",
        "\n",
        "def getDepartures(data, clube ): #Jogos\n",
        "    return (data[filter1]['Clube1'].count() + data[Away]['Clube2'].count()).astype(np.int64)\n"
      ],
      "execution_count": 65,
      "outputs": []
    },
    {
      "cell_type": "markdown",
      "metadata": {
        "id": "7eERov4OvTMA"
      },
      "source": [
        "# MONTAR TABELA DE ACORDO COM AS FUNÇOES"
      ]
    },
    {
      "cell_type": "code",
      "metadata": {
        "id": "rMl7R8ZkIIT9",
        "colab": {
          "base_uri": "https://localhost:8080/",
          "height": 374
        },
        "outputId": "753e48f4-6c8f-4271-bb41-f3d0955e98fd"
      },
      "source": [
        "for index, row in clubes.iterrows():\n",
        "  c1  =  row['Clubes']\n",
        "  c1  =  c1.strip()\n",
        "  Win = Tbl[\"Vencedor\"].str.lower() == c1\n",
        "  filter1 = Tbl[\"Clube1\"].str.lower() == c1\n",
        "  Um = (Tbl[\"Clube1\"].str.lower() == c1) &  (Tbl[\"Vencedor\"].str.lower() == '-')\n",
        "  UmDois = (Tbl[\"Clube1\"].str.lower() == c1) | (Tbl[\"Clube2\"].str.lower() == c1)\n",
        "  Away = Tbl[\"Clube2\"].str.lower() == c1\n",
        "  Mandante = Tbl[(filter1) & (Win)]\n",
        "  Mandante = Mandante['Vencedor'].count()\n",
        "  Draw = Tbl[\"Vencedor\"].str.lower() == '-'\n",
        "\n",
        "\n",
        "  p   = getPoints(Tbl,c1)\n",
        "  j   =  getDepartures(Tbl, c1)\n",
        "  v   =  getWinner(Tbl, c1 )\n",
        "  e   =  getDraw(Tbl, c1 )\n",
        "  d   =  getDefeats(Tbl, c1)\n",
        "  gp = gols(Tbl, c1)\n",
        "  gc = golsc(Tbl,c1)\n",
        "  gpht = HTPro(Tbl, c1)\n",
        "  gcht = HTC(Tbl, c1)\n",
        "  sg = gp - gc\n",
        "\n",
        "  clubes.at[index, 'P']  = p\n",
        "  clubes.at[index, 'J']  = j\n",
        "  clubes.at[index, 'V']  = v\n",
        "  clubes.at[index, 'E']  = e\n",
        "  clubes.at[index, 'D']  = d\n",
        "  clubes.at[index, 'GP'] = gp\n",
        "  clubes.at[index, 'GC'] = gc\n",
        "  clubes.at[index, 'SG'] = sg\n",
        "  clubes.at[index, 'GPHT'] = gpht\n",
        "  clubes.at[index, 'GCHT'] = gcht\n",
        "\n"
      ],
      "execution_count": 64,
      "outputs": [
        {
          "output_type": "error",
          "ename": "AttributeError",
          "evalue": "ignored",
          "traceback": [
            "\u001b[0;31m---------------------------------------------------------------------------\u001b[0m",
            "\u001b[0;31mAttributeError\u001b[0m                            Traceback (most recent call last)",
            "\u001b[0;32m<ipython-input-64-fb90167e694f>\u001b[0m in \u001b[0;36m<module>\u001b[0;34m()\u001b[0m\n\u001b[1;32m     20\u001b[0m   \u001b[0mgc\u001b[0m \u001b[0;34m=\u001b[0m \u001b[0mgolsc\u001b[0m\u001b[0;34m(\u001b[0m\u001b[0mTbl\u001b[0m\u001b[0;34m,\u001b[0m\u001b[0mc1\u001b[0m\u001b[0;34m)\u001b[0m\u001b[0;34m\u001b[0m\u001b[0;34m\u001b[0m\u001b[0m\n\u001b[1;32m     21\u001b[0m   \u001b[0mgpht\u001b[0m \u001b[0;34m=\u001b[0m \u001b[0mHTPro\u001b[0m\u001b[0;34m(\u001b[0m\u001b[0mTbl\u001b[0m\u001b[0;34m,\u001b[0m \u001b[0mc1\u001b[0m\u001b[0;34m)\u001b[0m\u001b[0;34m\u001b[0m\u001b[0;34m\u001b[0m\u001b[0m\n\u001b[0;32m---> 22\u001b[0;31m   \u001b[0mgcht\u001b[0m \u001b[0;34m=\u001b[0m \u001b[0mHTC\u001b[0m\u001b[0;34m(\u001b[0m\u001b[0mTbl\u001b[0m\u001b[0;34m,\u001b[0m \u001b[0mc1\u001b[0m\u001b[0;34m)\u001b[0m\u001b[0;34m\u001b[0m\u001b[0;34m\u001b[0m\u001b[0m\n\u001b[0m\u001b[1;32m     23\u001b[0m   \u001b[0msg\u001b[0m \u001b[0;34m=\u001b[0m \u001b[0mgp\u001b[0m \u001b[0;34m-\u001b[0m \u001b[0mgc\u001b[0m\u001b[0;34m\u001b[0m\u001b[0;34m\u001b[0m\u001b[0m\n\u001b[1;32m     24\u001b[0m \u001b[0;34m\u001b[0m\u001b[0m\n",
            "\u001b[0;32m<ipython-input-62-b4301686cd1f>\u001b[0m in \u001b[0;36mHTC\u001b[0;34m(Tbl, c1)\u001b[0m\n\u001b[1;32m     50\u001b[0m   \u001b[0mgolsf\u001b[0m \u001b[0;34m=\u001b[0m \u001b[0mTbl\u001b[0m\u001b[0;34m.\u001b[0m\u001b[0mloc\u001b[0m\u001b[0;34m[\u001b[0m\u001b[0mTbl\u001b[0m\u001b[0;34m[\u001b[0m\u001b[0;34m'Clube2'\u001b[0m\u001b[0;34m]\u001b[0m\u001b[0;34m.\u001b[0m\u001b[0mstr\u001b[0m\u001b[0;34m.\u001b[0m\u001b[0mlower\u001b[0m\u001b[0;34m(\u001b[0m\u001b[0;34m)\u001b[0m \u001b[0;34m==\u001b[0m \u001b[0mc1\u001b[0m\u001b[0;34m]\u001b[0m\u001b[0;34m\u001b[0m\u001b[0;34m\u001b[0m\u001b[0m\n\u001b[1;32m     51\u001b[0m   \u001b[0mgf\u001b[0m \u001b[0;34m=\u001b[0m \u001b[0mpd\u001b[0m\u001b[0;34m.\u001b[0m\u001b[0mDataFrame\u001b[0m\u001b[0;34m(\u001b[0m\u001b[0mgolsf\u001b[0m\u001b[0;34m[\u001b[0m\u001b[0;34m'GOLSMHT'\u001b[0m\u001b[0;34m]\u001b[0m\u001b[0;34m)\u001b[0m\u001b[0;34m\u001b[0m\u001b[0;34m\u001b[0m\u001b[0m\n\u001b[0;32m---> 52\u001b[0;31m   \u001b[0mgpc\u001b[0m \u001b[0;34m=\u001b[0m \u001b[0mnao_carros\u001b[0m\u001b[0;34m.\u001b[0m\u001b[0mGOLSMHT\u001b[0m\u001b[0;34m.\u001b[0m\u001b[0msum\u001b[0m\u001b[0;34m(\u001b[0m\u001b[0;34m)\u001b[0m\u001b[0;34m.\u001b[0m\u001b[0mastype\u001b[0m\u001b[0;34m(\u001b[0m\u001b[0mint\u001b[0m\u001b[0;34m)\u001b[0m\u001b[0;34m\u001b[0m\u001b[0;34m\u001b[0m\u001b[0m\n\u001b[0m\u001b[1;32m     53\u001b[0m   \u001b[0mgpf\u001b[0m \u001b[0;34m=\u001b[0m \u001b[0mgf\u001b[0m\u001b[0;34m.\u001b[0m\u001b[0msum\u001b[0m\u001b[0;34m(\u001b[0m\u001b[0;34m)\u001b[0m\u001b[0;34m.\u001b[0m\u001b[0mastype\u001b[0m\u001b[0;34m(\u001b[0m\u001b[0mint\u001b[0m\u001b[0;34m)\u001b[0m\u001b[0;34m\u001b[0m\u001b[0;34m\u001b[0m\u001b[0m\n\u001b[1;32m     54\u001b[0m   \u001b[0;32mreturn\u001b[0m \u001b[0;34m(\u001b[0m\u001b[0mgpc\u001b[0m \u001b[0;34m+\u001b[0m \u001b[0mgpf\u001b[0m\u001b[0;34m)\u001b[0m\u001b[0;34m\u001b[0m\u001b[0;34m\u001b[0m\u001b[0m\n",
            "\u001b[0;32m/usr/local/lib/python3.6/dist-packages/pandas/core/generic.py\u001b[0m in \u001b[0;36m__getattr__\u001b[0;34m(self, name)\u001b[0m\n\u001b[1;32m   5139\u001b[0m             \u001b[0;32mif\u001b[0m \u001b[0mself\u001b[0m\u001b[0;34m.\u001b[0m\u001b[0m_info_axis\u001b[0m\u001b[0;34m.\u001b[0m\u001b[0m_can_hold_identifiers_and_holds_name\u001b[0m\u001b[0;34m(\u001b[0m\u001b[0mname\u001b[0m\u001b[0;34m)\u001b[0m\u001b[0;34m:\u001b[0m\u001b[0;34m\u001b[0m\u001b[0;34m\u001b[0m\u001b[0m\n\u001b[1;32m   5140\u001b[0m                 \u001b[0;32mreturn\u001b[0m \u001b[0mself\u001b[0m\u001b[0;34m[\u001b[0m\u001b[0mname\u001b[0m\u001b[0;34m]\u001b[0m\u001b[0;34m\u001b[0m\u001b[0;34m\u001b[0m\u001b[0m\n\u001b[0;32m-> 5141\u001b[0;31m             \u001b[0;32mreturn\u001b[0m \u001b[0mobject\u001b[0m\u001b[0;34m.\u001b[0m\u001b[0m__getattribute__\u001b[0m\u001b[0;34m(\u001b[0m\u001b[0mself\u001b[0m\u001b[0;34m,\u001b[0m \u001b[0mname\u001b[0m\u001b[0;34m)\u001b[0m\u001b[0;34m\u001b[0m\u001b[0;34m\u001b[0m\u001b[0m\n\u001b[0m\u001b[1;32m   5142\u001b[0m \u001b[0;34m\u001b[0m\u001b[0m\n\u001b[1;32m   5143\u001b[0m     \u001b[0;32mdef\u001b[0m \u001b[0m__setattr__\u001b[0m\u001b[0;34m(\u001b[0m\u001b[0mself\u001b[0m\u001b[0;34m,\u001b[0m \u001b[0mname\u001b[0m\u001b[0;34m:\u001b[0m \u001b[0mstr\u001b[0m\u001b[0;34m,\u001b[0m \u001b[0mvalue\u001b[0m\u001b[0;34m)\u001b[0m \u001b[0;34m->\u001b[0m \u001b[0;32mNone\u001b[0m\u001b[0;34m:\u001b[0m\u001b[0;34m\u001b[0m\u001b[0;34m\u001b[0m\u001b[0m\n",
            "\u001b[0;31mAttributeError\u001b[0m: 'DataFrame' object has no attribute 'GOLSMHT'"
          ]
        }
      ]
    },
    {
      "cell_type": "markdown",
      "metadata": {
        "id": "IYMC7SP2ZdTq"
      },
      "source": [
        "Precisa executar 3 vezes"
      ]
    },
    {
      "cell_type": "code",
      "metadata": {
        "id": "HvXsWdKAxsTA"
      },
      "source": [
        "def Memoria(data):\n",
        "  data = data.fillna(0)\n",
        "  data['Clube1'] =  data['Clube1'].astype(\"category\")\n",
        "  data['Clube1Gols'] =  data['Clube1Gols'].astype(\"int16\")\n",
        "  data['Clube2'] =  data['Clube2'].astype(\"category\")\n",
        "  data['Clube2Gols'] =  data['Clube2Gols'].astype(\"int16\")\n",
        "  data['GPHT'] =  data['GPHT'].astype(\"int16\")\n",
        "  data['GCHT'] =  data['GCVHT'].astype(\"int16\")\n",
        "  data.info(verbose=False, memory_usage=\"deep\")\n",
        "  return (data)"
      ],
      "execution_count": 55,
      "outputs": []
    },
    {
      "cell_type": "code",
      "metadata": {
        "id": "PXrRjwoqyCTW"
      },
      "source": [
        "Memoria(Tbl)"
      ],
      "execution_count": null,
      "outputs": []
    },
    {
      "cell_type": "markdown",
      "metadata": {
        "id": "p77ZrXTculX1"
      },
      "source": [
        "# Tabela"
      ]
    },
    {
      "cell_type": "code",
      "metadata": {
        "id": "8ecGqivjIwAx",
        "colab": {
          "base_uri": "https://localhost:8080/",
          "height": 700
        },
        "outputId": "48d69532-6e4d-4b41-8199-c4afc65c5ce6"
      },
      "source": [
        "clubes = clubes.sort_values(by=['P','V', 'SG'], ascending=False) \n",
        "clubes = clubes.reset_index(drop=True)\n",
        "clubes"
      ],
      "execution_count": 56,
      "outputs": [
        {
          "output_type": "execute_result",
          "data": {
            "text/html": [
              "<div>\n",
              "<style scoped>\n",
              "    .dataframe tbody tr th:only-of-type {\n",
              "        vertical-align: middle;\n",
              "    }\n",
              "\n",
              "    .dataframe tbody tr th {\n",
              "        vertical-align: top;\n",
              "    }\n",
              "\n",
              "    .dataframe thead th {\n",
              "        text-align: right;\n",
              "    }\n",
              "</style>\n",
              "<table border=\"1\" class=\"dataframe\">\n",
              "  <thead>\n",
              "    <tr style=\"text-align: right;\">\n",
              "      <th></th>\n",
              "      <th>Clubes</th>\n",
              "      <th>P</th>\n",
              "      <th>J</th>\n",
              "      <th>V</th>\n",
              "      <th>E</th>\n",
              "      <th>D</th>\n",
              "      <th>GP</th>\n",
              "      <th>GC</th>\n",
              "      <th>SG</th>\n",
              "      <th>GPHT</th>\n",
              "    </tr>\n",
              "  </thead>\n",
              "  <tbody>\n",
              "    <tr>\n",
              "      <th>0</th>\n",
              "      <td>são paulo</td>\n",
              "      <td>56.0</td>\n",
              "      <td>28.0</td>\n",
              "      <td>16.0</td>\n",
              "      <td>8.0</td>\n",
              "      <td>4.0</td>\n",
              "      <td>46.0</td>\n",
              "      <td>26.0</td>\n",
              "      <td>20.0</td>\n",
              "      <td>20.0</td>\n",
              "    </tr>\n",
              "    <tr>\n",
              "      <th>1</th>\n",
              "      <td>atletico-mg</td>\n",
              "      <td>49.0</td>\n",
              "      <td>28.0</td>\n",
              "      <td>15.0</td>\n",
              "      <td>4.0</td>\n",
              "      <td>8.0</td>\n",
              "      <td>46.0</td>\n",
              "      <td>32.0</td>\n",
              "      <td>14.0</td>\n",
              "      <td>21.0</td>\n",
              "    </tr>\n",
              "    <tr>\n",
              "      <th>2</th>\n",
              "      <td>flamengo</td>\n",
              "      <td>48.0</td>\n",
              "      <td>28.0</td>\n",
              "      <td>14.0</td>\n",
              "      <td>6.0</td>\n",
              "      <td>7.0</td>\n",
              "      <td>47.0</td>\n",
              "      <td>37.0</td>\n",
              "      <td>10.0</td>\n",
              "      <td>18.0</td>\n",
              "    </tr>\n",
              "    <tr>\n",
              "      <th>3</th>\n",
              "      <td>gremio</td>\n",
              "      <td>48.0</td>\n",
              "      <td>28.0</td>\n",
              "      <td>12.0</td>\n",
              "      <td>12.0</td>\n",
              "      <td>4.0</td>\n",
              "      <td>36.0</td>\n",
              "      <td>22.0</td>\n",
              "      <td>14.0</td>\n",
              "      <td>14.0</td>\n",
              "    </tr>\n",
              "    <tr>\n",
              "      <th>4</th>\n",
              "      <td>internacional</td>\n",
              "      <td>47.0</td>\n",
              "      <td>28.0</td>\n",
              "      <td>13.0</td>\n",
              "      <td>8.0</td>\n",
              "      <td>6.0</td>\n",
              "      <td>41.0</td>\n",
              "      <td>26.0</td>\n",
              "      <td>15.0</td>\n",
              "      <td>23.0</td>\n",
              "    </tr>\n",
              "    <tr>\n",
              "      <th>5</th>\n",
              "      <td>palmeiras</td>\n",
              "      <td>44.0</td>\n",
              "      <td>28.0</td>\n",
              "      <td>12.0</td>\n",
              "      <td>8.0</td>\n",
              "      <td>7.0</td>\n",
              "      <td>36.0</td>\n",
              "      <td>25.0</td>\n",
              "      <td>11.0</td>\n",
              "      <td>16.0</td>\n",
              "    </tr>\n",
              "    <tr>\n",
              "      <th>6</th>\n",
              "      <td>fluminense</td>\n",
              "      <td>43.0</td>\n",
              "      <td>28.0</td>\n",
              "      <td>12.0</td>\n",
              "      <td>7.0</td>\n",
              "      <td>9.0</td>\n",
              "      <td>39.0</td>\n",
              "      <td>32.0</td>\n",
              "      <td>7.0</td>\n",
              "      <td>16.0</td>\n",
              "    </tr>\n",
              "    <tr>\n",
              "      <th>7</th>\n",
              "      <td>santos</td>\n",
              "      <td>39.0</td>\n",
              "      <td>28.0</td>\n",
              "      <td>10.0</td>\n",
              "      <td>9.0</td>\n",
              "      <td>8.0</td>\n",
              "      <td>38.0</td>\n",
              "      <td>35.0</td>\n",
              "      <td>3.0</td>\n",
              "      <td>22.0</td>\n",
              "    </tr>\n",
              "    <tr>\n",
              "      <th>8</th>\n",
              "      <td>corinthians</td>\n",
              "      <td>39.0</td>\n",
              "      <td>28.0</td>\n",
              "      <td>10.0</td>\n",
              "      <td>9.0</td>\n",
              "      <td>8.0</td>\n",
              "      <td>30.0</td>\n",
              "      <td>30.0</td>\n",
              "      <td>0.0</td>\n",
              "      <td>17.0</td>\n",
              "    </tr>\n",
              "    <tr>\n",
              "      <th>9</th>\n",
              "      <td>athletico</td>\n",
              "      <td>37.0</td>\n",
              "      <td>28.0</td>\n",
              "      <td>11.0</td>\n",
              "      <td>4.0</td>\n",
              "      <td>13.0</td>\n",
              "      <td>23.0</td>\n",
              "      <td>28.0</td>\n",
              "      <td>-5.0</td>\n",
              "      <td>14.0</td>\n",
              "    </tr>\n",
              "    <tr>\n",
              "      <th>10</th>\n",
              "      <td>ceara</td>\n",
              "      <td>36.0</td>\n",
              "      <td>28.0</td>\n",
              "      <td>9.0</td>\n",
              "      <td>9.0</td>\n",
              "      <td>9.0</td>\n",
              "      <td>38.0</td>\n",
              "      <td>37.0</td>\n",
              "      <td>1.0</td>\n",
              "      <td>13.0</td>\n",
              "    </tr>\n",
              "    <tr>\n",
              "      <th>11</th>\n",
              "      <td>rb bragantino</td>\n",
              "      <td>34.0</td>\n",
              "      <td>27.0</td>\n",
              "      <td>8.0</td>\n",
              "      <td>10.0</td>\n",
              "      <td>9.0</td>\n",
              "      <td>35.0</td>\n",
              "      <td>32.0</td>\n",
              "      <td>3.0</td>\n",
              "      <td>14.0</td>\n",
              "    </tr>\n",
              "    <tr>\n",
              "      <th>12</th>\n",
              "      <td>atletico-go</td>\n",
              "      <td>34.0</td>\n",
              "      <td>28.0</td>\n",
              "      <td>8.0</td>\n",
              "      <td>10.0</td>\n",
              "      <td>9.0</td>\n",
              "      <td>24.0</td>\n",
              "      <td>31.0</td>\n",
              "      <td>-7.0</td>\n",
              "      <td>10.0</td>\n",
              "    </tr>\n",
              "    <tr>\n",
              "      <th>13</th>\n",
              "      <td>sport</td>\n",
              "      <td>32.0</td>\n",
              "      <td>28.0</td>\n",
              "      <td>9.0</td>\n",
              "      <td>5.0</td>\n",
              "      <td>14.0</td>\n",
              "      <td>24.0</td>\n",
              "      <td>36.0</td>\n",
              "      <td>-12.0</td>\n",
              "      <td>13.0</td>\n",
              "    </tr>\n",
              "    <tr>\n",
              "      <th>14</th>\n",
              "      <td>fortaleza</td>\n",
              "      <td>30.0</td>\n",
              "      <td>28.0</td>\n",
              "      <td>7.0</td>\n",
              "      <td>9.0</td>\n",
              "      <td>11.0</td>\n",
              "      <td>24.0</td>\n",
              "      <td>26.0</td>\n",
              "      <td>-2.0</td>\n",
              "      <td>10.0</td>\n",
              "    </tr>\n",
              "    <tr>\n",
              "      <th>15</th>\n",
              "      <td>bahia</td>\n",
              "      <td>28.0</td>\n",
              "      <td>28.0</td>\n",
              "      <td>8.0</td>\n",
              "      <td>4.0</td>\n",
              "      <td>16.0</td>\n",
              "      <td>34.0</td>\n",
              "      <td>49.0</td>\n",
              "      <td>-15.0</td>\n",
              "      <td>14.0</td>\n",
              "    </tr>\n",
              "    <tr>\n",
              "      <th>16</th>\n",
              "      <td>vasco</td>\n",
              "      <td>27.0</td>\n",
              "      <td>27.0</td>\n",
              "      <td>7.0</td>\n",
              "      <td>6.0</td>\n",
              "      <td>13.0</td>\n",
              "      <td>25.0</td>\n",
              "      <td>37.0</td>\n",
              "      <td>-12.0</td>\n",
              "      <td>11.0</td>\n",
              "    </tr>\n",
              "    <tr>\n",
              "      <th>17</th>\n",
              "      <td>vasco</td>\n",
              "      <td>27.0</td>\n",
              "      <td>27.0</td>\n",
              "      <td>7.0</td>\n",
              "      <td>6.0</td>\n",
              "      <td>13.0</td>\n",
              "      <td>25.0</td>\n",
              "      <td>37.0</td>\n",
              "      <td>-12.0</td>\n",
              "      <td>11.0</td>\n",
              "    </tr>\n",
              "    <tr>\n",
              "      <th>18</th>\n",
              "      <td>goias</td>\n",
              "      <td>26.0</td>\n",
              "      <td>28.0</td>\n",
              "      <td>6.0</td>\n",
              "      <td>8.0</td>\n",
              "      <td>14.0</td>\n",
              "      <td>29.0</td>\n",
              "      <td>40.0</td>\n",
              "      <td>-11.0</td>\n",
              "      <td>14.0</td>\n",
              "    </tr>\n",
              "    <tr>\n",
              "      <th>19</th>\n",
              "      <td>botafogo-rj</td>\n",
              "      <td>23.0</td>\n",
              "      <td>28.0</td>\n",
              "      <td>4.0</td>\n",
              "      <td>11.0</td>\n",
              "      <td>13.0</td>\n",
              "      <td>24.0</td>\n",
              "      <td>40.0</td>\n",
              "      <td>-16.0</td>\n",
              "      <td>10.0</td>\n",
              "    </tr>\n",
              "    <tr>\n",
              "      <th>20</th>\n",
              "      <td>coritiba</td>\n",
              "      <td>21.0</td>\n",
              "      <td>28.0</td>\n",
              "      <td>5.0</td>\n",
              "      <td>6.0</td>\n",
              "      <td>17.0</td>\n",
              "      <td>22.0</td>\n",
              "      <td>39.0</td>\n",
              "      <td>-17.0</td>\n",
              "      <td>11.0</td>\n",
              "    </tr>\n",
              "  </tbody>\n",
              "</table>\n",
              "</div>"
            ],
            "text/plain": [
              "           Clubes     P     J     V     E     D    GP    GC    SG  GPHT\n",
              "0       são paulo  56.0  28.0  16.0   8.0   4.0  46.0  26.0  20.0  20.0\n",
              "1     atletico-mg  49.0  28.0  15.0   4.0   8.0  46.0  32.0  14.0  21.0\n",
              "2        flamengo  48.0  28.0  14.0   6.0   7.0  47.0  37.0  10.0  18.0\n",
              "3          gremio  48.0  28.0  12.0  12.0   4.0  36.0  22.0  14.0  14.0\n",
              "4   internacional  47.0  28.0  13.0   8.0   6.0  41.0  26.0  15.0  23.0\n",
              "5       palmeiras  44.0  28.0  12.0   8.0   7.0  36.0  25.0  11.0  16.0\n",
              "6      fluminense  43.0  28.0  12.0   7.0   9.0  39.0  32.0   7.0  16.0\n",
              "7          santos  39.0  28.0  10.0   9.0   8.0  38.0  35.0   3.0  22.0\n",
              "8     corinthians  39.0  28.0  10.0   9.0   8.0  30.0  30.0   0.0  17.0\n",
              "9       athletico  37.0  28.0  11.0   4.0  13.0  23.0  28.0  -5.0  14.0\n",
              "10          ceara  36.0  28.0   9.0   9.0   9.0  38.0  37.0   1.0  13.0\n",
              "11  rb bragantino  34.0  27.0   8.0  10.0   9.0  35.0  32.0   3.0  14.0\n",
              "12    atletico-go  34.0  28.0   8.0  10.0   9.0  24.0  31.0  -7.0  10.0\n",
              "13          sport  32.0  28.0   9.0   5.0  14.0  24.0  36.0 -12.0  13.0\n",
              "14      fortaleza  30.0  28.0   7.0   9.0  11.0  24.0  26.0  -2.0  10.0\n",
              "15          bahia  28.0  28.0   8.0   4.0  16.0  34.0  49.0 -15.0  14.0\n",
              "16          vasco  27.0  27.0   7.0   6.0  13.0  25.0  37.0 -12.0  11.0\n",
              "17         vasco   27.0  27.0   7.0   6.0  13.0  25.0  37.0 -12.0  11.0\n",
              "18          goias  26.0  28.0   6.0   8.0  14.0  29.0  40.0 -11.0  14.0\n",
              "19    botafogo-rj  23.0  28.0   4.0  11.0  13.0  24.0  40.0 -16.0  10.0\n",
              "20       coritiba  21.0  28.0   5.0   6.0  17.0  22.0  39.0 -17.0  11.0"
            ]
          },
          "metadata": {
            "tags": []
          },
          "execution_count": 56
        }
      ]
    },
    {
      "cell_type": "markdown",
      "metadata": {
        "id": "GPwoOjzA-QnX"
      },
      "source": [
        "# Nova seção"
      ]
    },
    {
      "cell_type": "markdown",
      "metadata": {
        "id": "WXR3s64oohOK"
      },
      "source": [
        "# Nova seção"
      ]
    },
    {
      "cell_type": "code",
      "metadata": {
        "id": "DgCnvvATwDj-",
        "colab": {
          "base_uri": "https://localhost:8080/"
        },
        "outputId": "9721443c-f394-498e-9720-e1e8fb9a2a41"
      },
      "source": [
        " Ultimos =Tbl.query('Clube2 == \"RB Bragantino\" or Clube1 == \"RB Bragantino\"').head()\r\n",
        " Ultimos.SOMA.sum()"
      ],
      "execution_count": 59,
      "outputs": [
        {
          "output_type": "execute_result",
          "data": {
            "text/plain": [
              "13"
            ]
          },
          "metadata": {
            "tags": []
          },
          "execution_count": 59
        }
      ]
    },
    {
      "cell_type": "code",
      "metadata": {
        "id": "uQhygeWzoLQ-",
        "colab": {
          "base_uri": "https://localhost:8080/"
        },
        "outputId": "9119fa66-8c05-491d-a549-e9d1d74a46b8"
      },
      "source": [
        "Inter = Tbl.query('Clube2 == \"RB Bragantino\" or Clube1 == \"RB Bragantino\"')\n",
        "Inter.Vencedor.value_counts()"
      ],
      "execution_count": 60,
      "outputs": [
        {
          "output_type": "execute_result",
          "data": {
            "text/plain": [
              "-                10\n",
              "RB Bragantino     8\n",
              "Gremio            1\n",
              "Palmeiras         1\n",
              "Atletico-MG       1\n",
              "Fortaleza         1\n",
              "Atletico-GO       1\n",
              "Bahia             1\n",
              "Coritiba          1\n",
              "Athletico         1\n",
              "Internacional     1\n",
              "Name: Vencedor, dtype: int64"
            ]
          },
          "metadata": {
            "tags": []
          },
          "execution_count": 60
        }
      ]
    },
    {
      "cell_type": "code",
      "metadata": {
        "id": "akgBoPO03u0A",
        "colab": {
          "base_uri": "https://localhost:8080/"
        },
        "outputId": "884c2b95-bbdf-49a9-fc0d-5590c6cb578a"
      },
      "source": [
        "Tbl.info()"
      ],
      "execution_count": 15,
      "outputs": [
        {
          "output_type": "stream",
          "text": [
            "<class 'pandas.core.frame.DataFrame'>\n",
            "RangeIndex: 280 entries, 0 to 279\n",
            "Data columns (total 22 columns):\n",
            " #   Column                 Non-Null Count  Dtype         \n",
            "---  ------                 --------------  -----         \n",
            " 0   Ano                    109 non-null    float64       \n",
            " 1   HorÃ¡rio               176 non-null    object        \n",
            " 2   Dia                    239 non-null    object        \n",
            " 3   Data                   257 non-null    datetime64[ns]\n",
            " 4   Clube1                 280 non-null    object        \n",
            " 5   Clube2                 280 non-null    object        \n",
            " 6   Vencedor               275 non-null    object        \n",
            " 7   Rodada                 280 non-null    object        \n",
            " 8   Arena                  109 non-null    object        \n",
            " 9   Clube1Gols             280 non-null    int64         \n",
            " 10  Clube2Gols             280 non-null    int64         \n",
            " 11  Clube 1 BAtado         109 non-null    object        \n",
            " 12  Clube 2 BAtado         109 non-null    object        \n",
            " 13  BAtado Clube Vencedor  109 non-null    object        \n",
            " 14  TecnicoMandante        186 non-null    object        \n",
            " 15  TecnicoVisitante       184 non-null    object        \n",
            " 16  TecnicoVencedor        136 non-null    object        \n",
            " 17  GOLSMHT                270 non-null    float64       \n",
            " 18  GOLSAHT                270 non-null    float64       \n",
            " 19  AM                     273 non-null    object        \n",
            " 20  CantosH                115 non-null    float64       \n",
            " 21  CantosA                115 non-null    float64       \n",
            "dtypes: datetime64[ns](1), float64(5), int64(2), object(14)\n",
            "memory usage: 48.2+ KB\n"
          ],
          "name": "stdout"
        }
      ]
    },
    {
      "cell_type": "markdown",
      "metadata": {
        "id": "29hy5oALQp8l"
      },
      "source": [
        "# GRAFICOS "
      ]
    },
    {
      "cell_type": "markdown",
      "metadata": {
        "id": "I4iV_VHmxeOM"
      },
      "source": [
        "##PONTUAÇÃO"
      ]
    },
    {
      "cell_type": "code",
      "metadata": {
        "id": "637oYlTiQ2uQ",
        "colab": {
          "base_uri": "https://localhost:8080/",
          "height": 648
        },
        "outputId": "194827fe-377c-4923-f8f8-83e96b65a19f"
      },
      "source": [
        "plt.figure(figsize=(30, 20))\n",
        "sns.set_theme(style=\"white\")\n",
        "ax = sns.barplot(x=clubes['Clubes'], y = clubes['P'], palette=\"rocket\",\n",
        "                 data=clubes).set_title('Distribuição de candidatos com Idade menor que 17 por Estado',  fontsize = 16)"
      ],
      "execution_count": 16,
      "outputs": [
        {
          "output_type": "display_data",
          "data": {
            "image/png": "[encoded data removed]",
            "text/plain": [
              "<Figure size 2160x1440 with 1 Axes>"
            ]
          },
          "metadata": {
            "tags": [],
            "needs_background": "light"
          }
        }
      ]
    },
    {
      "cell_type": "code",
      "metadata": {
        "id": "bqLqd3ua8LgK",
        "colab": {
          "base_uri": "https://localhost:8080/"
        },
        "outputId": "9c7925e2-e627-4dc3-ec78-8e77bd323cdb"
      },
      "source": [
        "Tbl[\"SOMA\"] = Tbl[\"Clube1Gols\"] + Tbl[\"Clube2Gols\"]\n",
        "Tbl.groupby(\"Rodada\")[\"SOMA\"].mean()"
      ],
      "execution_count": 58,
      "outputs": [
        {
          "output_type": "execute_result",
          "data": {
            "text/plain": [
              "Rodada\n",
              "01ª Rodada    1.4\n",
              "02ª Rodada    2.3\n",
              "03ª Rodada    2.0\n",
              "04ª Rodada    2.6\n",
              "05ª Rodada    1.7\n",
              "06ª Rodada    2.0\n",
              "07ª Rodada    2.8\n",
              "08ª Rodada    2.6\n",
              "09ª Rodada    2.7\n",
              "10ª Rodada    2.6\n",
              "11ª Rodada    2.7\n",
              "12ª Rodada    2.4\n",
              "13ª Rodada    2.6\n",
              "14ª Rodada    2.7\n",
              "15ª Rodada    2.4\n",
              "16ª Rodada    2.6\n",
              "17ª Rodada    2.5\n",
              "18ª Rodada    2.9\n",
              "19ª Rodada    2.5\n",
              "20ª Rodada    2.1\n",
              "21ª Rodada    2.9\n",
              "22ª Rodada    2.3\n",
              "23ª Rodada    2.4\n",
              "24ª Rodada    2.1\n",
              "25ª Rodada    2.2\n",
              "26ª Rodada    2.7\n",
              "27ª Rodada    1.7\n",
              "28ª Rodada    1.8\n",
              "Name: SOMA, dtype: float64"
            ]
          },
          "metadata": {
            "tags": []
          },
          "execution_count": 58
        }
      ]
    },
    {
      "cell_type": "markdown",
      "metadata": {
        "id": "_KIY_eQTxjJM"
      },
      "source": [
        "## GOLS POR RODADA"
      ]
    },
    {
      "cell_type": "code",
      "metadata": {
        "id": "nrli8k3C5vgW",
        "colab": {
          "base_uri": "https://localhost:8080/",
          "height": 629
        },
        "outputId": "04683070-6103-4e04-87d0-b53f30fe287d"
      },
      "source": [
        "plt.figure(figsize=(10, 10))\n",
        "sns.set_theme(style=\"white\")\n",
        "ax = sns.barplot(x=Tbl['Rodada'], y = Tbl['SOMA'],\n",
        "                 data=Tbl).set_title('MEDIA DE GOLS POR RODADA',  fontsize = 16)"
      ],
      "execution_count": 18,
      "outputs": [
        {
          "output_type": "display_data",
          "data": {
            "image/png": "[encoded data removed]",
            "text/plain": [
              "<Figure size 720x720 with 1 Axes>"
            ]
          },
          "metadata": {
            "tags": []
          }
        }
      ]
    },
    {
      "cell_type": "code",
      "metadata": {
        "id": "HuIwxztGM28Q",
        "colab": {
          "base_uri": "https://localhost:8080/"
        },
        "outputId": "1007d13d-b372-4126-a823-c3e6472bf4ab"
      },
      "source": [
        "GOLS = Tbl.SOMA.sum()/ (len(Tbl)-6)\n",
        "GOLS"
      ],
      "execution_count": 19,
      "outputs": [
        {
          "output_type": "execute_result",
          "data": {
            "text/plain": [
              "2.4160583941605838"
            ]
          },
          "metadata": {
            "tags": []
          },
          "execution_count": 19
        }
      ]
    },
    {
      "cell_type": "code",
      "metadata": {
        "id": "BjtJN6u1NauN",
        "colab": {
          "base_uri": "https://localhost:8080/"
        },
        "outputId": "58a04853-a444-46c2-ec52-357f5d50d1c3"
      },
      "source": [
        "len(Tbl)"
      ],
      "execution_count": 20,
      "outputs": [
        {
          "output_type": "execute_result",
          "data": {
            "text/plain": [
              "280"
            ]
          },
          "metadata": {
            "tags": []
          },
          "execution_count": 20
        }
      ]
    },
    {
      "cell_type": "code",
      "metadata": {
        "id": "FnMrGOK54Q88",
        "colab": {
          "base_uri": "https://localhost:8080/"
        },
        "outputId": "2db0de9e-b157-4619-904c-c4e240be76ed"
      },
      "source": [
        "HT = Tbl.GOLSMHT.sum() + Tbl.GOLSAHT.sum()\n",
        "HT"
      ],
      "execution_count": 23,
      "outputs": [
        {
          "output_type": "execute_result",
          "data": {
            "text/plain": [
              "301.0"
            ]
          },
          "metadata": {
            "tags": []
          },
          "execution_count": 23
        }
      ]
    },
    {
      "cell_type": "code",
      "metadata": {
        "id": "xyNE44114nUC",
        "colab": {
          "base_uri": "https://localhost:8080/"
        },
        "outputId": "f2eab3d7-a0c0-4000-848b-2e5670fa04e8"
      },
      "source": [
        "HT / Tbl.SOMA.sum()"
      ],
      "execution_count": 24,
      "outputs": [
        {
          "output_type": "execute_result",
          "data": {
            "text/plain": [
              "0.45468277945619334"
            ]
          },
          "metadata": {
            "tags": []
          },
          "execution_count": 24
        }
      ]
    },
    {
      "cell_type": "code",
      "metadata": {
        "id": "clncmaMMEPw1"
      },
      "source": [
        "Golos = Tbl.groupby(\"SOMA\")[\"Rodada\"].count()"
      ],
      "execution_count": 31,
      "outputs": []
    },
    {
      "cell_type": "code",
      "metadata": {
        "colab": {
          "base_uri": "https://localhost:8080/"
        },
        "id": "KXJXiSZbFsYV",
        "outputId": "91e0d537-d7c2-4a1b-8b09-8a0af6e2155d"
      },
      "source": [
        "Golos"
      ],
      "execution_count": 45,
      "outputs": [
        {
          "output_type": "execute_result",
          "data": {
            "text/plain": [
              "SOMA\n",
              "0    30\n",
              "1    54\n",
              "2    72\n",
              "3    70\n",
              "4    33\n",
              "5    10\n",
              "6     7\n",
              "7     2\n",
              "8     2\n",
              "Name: Rodada, dtype: int64"
            ]
          },
          "metadata": {
            "tags": []
          },
          "execution_count": 45
        }
      ]
    },
    {
      "cell_type": "code",
      "metadata": {
        "colab": {
          "base_uri": "https://localhost:8080/",
          "height": 421
        },
        "id": "Kl5MrzKJNbC0",
        "outputId": "06fe23c9-ea85-4417-e1cf-c7e540e77e3e"
      },
      "source": [
        "tabela = pd.DataFrame(Tbl['SOMA'].value_counts(normalize=True).sort_index(ascending=True))\r\n",
        "plt.figure(figsize=(10,6))\r\n",
        "sns.set_theme(style=\"whitegrid\")\r\n",
        "ax = sns.barplot(data=tabela, x=['0' , '1', '2','3','4','5','6','7','8'], y=tabela['SOMA']  )\r\n",
        "ax.set_title('Quantidade de gols (em %)', fontsize=25)\r\n",
        "ax.set_xlabel('GOLS', fontsize=16)\r\n",
        "ax.set_ylabel('Porcentagem', fontsize=16);"
      ],
      "execution_count": 99,
      "outputs": [
        {
          "output_type": "display_data",
          "data": {
            "image/png": "[encoded data removed]",
            "text/plain": [
              "<Figure size 720x432 with 1 Axes>"
            ]
          },
          "metadata": {
            "tags": []
          }
        }
      ]
    },
    {
      "cell_type": "code",
      "metadata": {
        "colab": {
          "base_uri": "https://localhost:8080/"
        },
        "id": "FuJJ3RQLGEU_",
        "outputId": "52aeab9e-3f97-4f82-80eb-6a73bcb88d2f"
      },
      "source": [
        "Tbl['SOMA'].value_counts().sort_index(ascending=True)"
      ],
      "execution_count": 98,
      "outputs": [
        {
          "output_type": "execute_result",
          "data": {
            "text/plain": [
              "0    30\n",
              "1    54\n",
              "2    72\n",
              "3    70\n",
              "4    33\n",
              "5    10\n",
              "6     7\n",
              "7     2\n",
              "8     2\n",
              "Name: SOMA, dtype: int64"
            ]
          },
          "metadata": {
            "tags": []
          },
          "execution_count": 98
        }
      ]
    },
    {
      "cell_type": "markdown",
      "metadata": {
        "id": "Ur2CmhzvjiPf"
      },
      "source": [
        "## OVER 1,5"
      ]
    },
    {
      "cell_type": "code",
      "metadata": {
        "colab": {
          "base_uri": "https://localhost:8080/",
          "height": 421
        },
        "id": "BanwZbqAcya0",
        "outputId": "f0f3e118-77d9-478b-e6ff-df7607a55ee1"
      },
      "source": [
        "over15 = pd.DataFrame({'SOMA':[Tbl[ Tbl.SOMA <= 1 ][\"SOMA\"].count() / Tbl[\"SOMA\"].count()\r\n",
        ", Tbl[ Tbl.SOMA > 1 ][\"SOMA\"].count() / Tbl[\"SOMA\"].count()]\r\n",
        "                       })\r\n",
        "plt.figure(figsize=(10,6))\r\n",
        "sns.set_theme(style=\"whitegrid\")\r\n",
        "ax = sns.barplot(data=tabela, x=['Menos' , 'Mais'], y=over25['SOMA']  )\r\n",
        "ax.set_title('OVER 1,5 (em %)', fontsize=25)\r\n",
        "ax.set_xlabel('GOLS', fontsize=16)\r\n",
        "ax.set_ylabel('Porcentagem', fontsize=16);"
      ],
      "execution_count": 131,
      "outputs": [
        {
          "output_type": "display_data",
          "data": {
            "image/png": "[encoded data removed]",
            "text/plain": [
              "<Figure size 720x432 with 1 Axes>"
            ]
          },
          "metadata": {
            "tags": []
          }
        }
      ]
    },
    {
      "cell_type": "code",
      "metadata": {
        "colab": {
          "base_uri": "https://localhost:8080/"
        },
        "id": "QbMwWbtLdo6C",
        "outputId": "e24f479d-f8d5-451a-f4fb-5f599bfe651d"
      },
      "source": [
        "1/0.7"
      ],
      "execution_count": 135,
      "outputs": [
        {
          "output_type": "execute_result",
          "data": {
            "text/plain": [
              "1.4285714285714286"
            ]
          },
          "metadata": {
            "tags": []
          },
          "execution_count": 135
        }
      ]
    }
  ]
}